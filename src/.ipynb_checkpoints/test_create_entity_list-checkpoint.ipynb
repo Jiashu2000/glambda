{
 "cells": [
  {
   "cell_type": "code",
   "execution_count": 1,
   "id": "72a93369-cabc-4a56-af07-6f8adae6871a",
   "metadata": {
    "tags": []
   },
   "outputs": [],
   "source": [
    "# Find Named Entities in the KG\n",
    "\n",
    "import pandas as pd\n",
    "\n",
    "input_path = \"../data_intermediate\"\n",
    "output_path = \"../data_intermediate\""
   ]
  },
  {
   "cell_type": "code",
   "execution_count": 2,
   "id": "ae0de1e3-e9af-43c3-9d6e-7140456c4cbe",
   "metadata": {
    "tags": []
   },
   "outputs": [],
   "source": [
    "entity_df = pd.read_csv(input_path+\"/parsed_entities.csv\", index_col = 0)"
   ]
  },
  {
   "cell_type": "code",
   "execution_count": 3,
   "id": "c2754c21-c676-4260-b58c-dbd7e96ff282",
   "metadata": {
    "tags": []
   },
   "outputs": [],
   "source": [
    "def remove_suffix(name):\n",
    "    \"\"\"\n",
    "    Some entity has a name like \"Taylor Swift's\". need to remove 's at the end\n",
    "    \"\"\"\n",
    "    if name.endswith(\"'s\"):\n",
    "        return name[:-2]\n",
    "    return name"
   ]
  },
  {
   "cell_type": "code",
   "execution_count": 4,
   "id": "842dd599-7210-4e90-acde-67b31d328dfe",
   "metadata": {
    "tags": []
   },
   "outputs": [
    {
     "data": {
      "text/html": [
       "<div>\n",
       "<style scoped>\n",
       "    .dataframe tbody tr th:only-of-type {\n",
       "        vertical-align: middle;\n",
       "    }\n",
       "\n",
       "    .dataframe tbody tr th {\n",
       "        vertical-align: top;\n",
       "    }\n",
       "\n",
       "    .dataframe thead th {\n",
       "        text-align: right;\n",
       "    }\n",
       "</style>\n",
       "<table border=\"1\" class=\"dataframe\">\n",
       "  <thead>\n",
       "    <tr style=\"text-align: right;\">\n",
       "      <th></th>\n",
       "      <th>news_id</th>\n",
       "      <th>text</th>\n",
       "      <th>ent_name</th>\n",
       "      <th>ent_link</th>\n",
       "      <th>ent_class</th>\n",
       "      <th>ent_specific_class</th>\n",
       "      <th>ent_conf</th>\n",
       "    </tr>\n",
       "  </thead>\n",
       "  <tbody>\n",
       "    <tr>\n",
       "      <th>0</th>\n",
       "      <td>31</td>\n",
       "      <td>Caitlyn Jenner Lashes Out at Disney. Caitlyn J...</td>\n",
       "      <td>Caitlyn Jenner</td>\n",
       "      <td>http://dbpedia.org/resource/Caitlyn_Jenner</td>\n",
       "      <td>dbpedia-owl:Person</td>\n",
       "      <td>dbpedia-owl:TelevisionHost|dbpedia-owl:Athlete</td>\n",
       "      <td>0.696500</td>\n",
       "    </tr>\n",
       "    <tr>\n",
       "      <th>1</th>\n",
       "      <td>31</td>\n",
       "      <td>Caitlyn Jenner Lashes Out at Disney. Caitlyn J...</td>\n",
       "      <td>Disney</td>\n",
       "      <td>http://dbpedia.org/resource/The_Walt_Disney_Co...</td>\n",
       "      <td>dbpedia-owl:Organisation</td>\n",
       "      <td>dbpedia-owl:Organisation</td>\n",
       "      <td>0.570000</td>\n",
       "    </tr>\n",
       "    <tr>\n",
       "      <th>2</th>\n",
       "      <td>31</td>\n",
       "      <td>Caitlyn Jenner Lashes Out at Disney. Caitlyn J...</td>\n",
       "      <td>Caitlyn Jenner</td>\n",
       "      <td>http://dbpedia.org/resource/Caitlyn_Jenner</td>\n",
       "      <td>dbpedia-owl:Person</td>\n",
       "      <td>dbpedia-owl:TelevisionHost|dbpedia-owl:Athlete</td>\n",
       "      <td>0.851667</td>\n",
       "    </tr>\n",
       "    <tr>\n",
       "      <th>3</th>\n",
       "      <td>31</td>\n",
       "      <td>Caitlyn Jenner Lashes Out at Disney. Caitlyn J...</td>\n",
       "      <td>Disney</td>\n",
       "      <td>http://dbpedia.org/resource/The_Walt_Disney_Co...</td>\n",
       "      <td>dbpedia-owl:Organisation</td>\n",
       "      <td>dbpedia-owl:Organisation</td>\n",
       "      <td>0.570000</td>\n",
       "    </tr>\n",
       "    <tr>\n",
       "      <th>4</th>\n",
       "      <td>31</td>\n",
       "      <td>Caitlyn Jenner Lashes Out at Disney. Caitlyn J...</td>\n",
       "      <td>Bob Iger</td>\n",
       "      <td>http://dbpedia.org/resource/Bob_Iger</td>\n",
       "      <td>dbpedia-owl:Person</td>\n",
       "      <td>dbpedia-owl:Person</td>\n",
       "      <td>0.867500</td>\n",
       "    </tr>\n",
       "    <tr>\n",
       "      <th>5</th>\n",
       "      <td>31</td>\n",
       "      <td>Caitlyn Jenner Lashes Out at Disney. Caitlyn J...</td>\n",
       "      <td>Kardashians</td>\n",
       "      <td>http://dbpedia.org/resource/Keeping_Up_with_th...</td>\n",
       "      <td>NaN</td>\n",
       "      <td>dbpedia-owl:TelevisionShow</td>\n",
       "      <td>-0.598810</td>\n",
       "    </tr>\n",
       "    <tr>\n",
       "      <th>6</th>\n",
       "      <td>31</td>\n",
       "      <td>Caitlyn Jenner Lashes Out at Disney. Caitlyn J...</td>\n",
       "      <td>reality show</td>\n",
       "      <td>http://dbpedia.org/resource/Reality_television</td>\n",
       "      <td>NaN</td>\n",
       "      <td>dbpedia-owl:Work</td>\n",
       "      <td>-0.585000</td>\n",
       "    </tr>\n",
       "    <tr>\n",
       "      <th>7</th>\n",
       "      <td>27</td>\n",
       "      <td>Family sues school district over law that bans...</td>\n",
       "      <td>volleyball player</td>\n",
       "      <td>http://dbpedia.org/resource/Volleyball</td>\n",
       "      <td>NaN</td>\n",
       "      <td>dbpedia-owl:Sport|dbpedia-owl:Book</td>\n",
       "      <td>-0.594167</td>\n",
       "    </tr>\n",
       "    <tr>\n",
       "      <th>8</th>\n",
       "      <td>27</td>\n",
       "      <td>Family sues school district over law that bans...</td>\n",
       "      <td>volleyball player</td>\n",
       "      <td>http://dbpedia.org/resource/Volleyball</td>\n",
       "      <td>NaN</td>\n",
       "      <td>dbpedia-owl:Sport|dbpedia-owl:Book</td>\n",
       "      <td>-0.594167</td>\n",
       "    </tr>\n",
       "    <tr>\n",
       "      <th>9</th>\n",
       "      <td>0</td>\n",
       "      <td>Pope Francis Calls Surrogate Motherhood ‘Deplo...</td>\n",
       "      <td>Pope Francis</td>\n",
       "      <td>http://dbpedia.org/resource/Pope_Francis</td>\n",
       "      <td>dbpedia-owl:Person</td>\n",
       "      <td>dbpedia-owl:Pope|dbpedia-owl:Religious</td>\n",
       "      <td>0.655000</td>\n",
       "    </tr>\n",
       "  </tbody>\n",
       "</table>\n",
       "</div>"
      ],
      "text/plain": [
       "   news_id                                               text  \\\n",
       "0       31  Caitlyn Jenner Lashes Out at Disney. Caitlyn J...   \n",
       "1       31  Caitlyn Jenner Lashes Out at Disney. Caitlyn J...   \n",
       "2       31  Caitlyn Jenner Lashes Out at Disney. Caitlyn J...   \n",
       "3       31  Caitlyn Jenner Lashes Out at Disney. Caitlyn J...   \n",
       "4       31  Caitlyn Jenner Lashes Out at Disney. Caitlyn J...   \n",
       "5       31  Caitlyn Jenner Lashes Out at Disney. Caitlyn J...   \n",
       "6       31  Caitlyn Jenner Lashes Out at Disney. Caitlyn J...   \n",
       "7       27  Family sues school district over law that bans...   \n",
       "8       27  Family sues school district over law that bans...   \n",
       "9        0  Pope Francis Calls Surrogate Motherhood ‘Deplo...   \n",
       "\n",
       "            ent_name                                           ent_link  \\\n",
       "0     Caitlyn Jenner         http://dbpedia.org/resource/Caitlyn_Jenner   \n",
       "1             Disney  http://dbpedia.org/resource/The_Walt_Disney_Co...   \n",
       "2     Caitlyn Jenner         http://dbpedia.org/resource/Caitlyn_Jenner   \n",
       "3             Disney  http://dbpedia.org/resource/The_Walt_Disney_Co...   \n",
       "4           Bob Iger               http://dbpedia.org/resource/Bob_Iger   \n",
       "5        Kardashians  http://dbpedia.org/resource/Keeping_Up_with_th...   \n",
       "6       reality show     http://dbpedia.org/resource/Reality_television   \n",
       "7  volleyball player             http://dbpedia.org/resource/Volleyball   \n",
       "8  volleyball player             http://dbpedia.org/resource/Volleyball   \n",
       "9       Pope Francis           http://dbpedia.org/resource/Pope_Francis   \n",
       "\n",
       "                  ent_class                              ent_specific_class  \\\n",
       "0        dbpedia-owl:Person  dbpedia-owl:TelevisionHost|dbpedia-owl:Athlete   \n",
       "1  dbpedia-owl:Organisation                        dbpedia-owl:Organisation   \n",
       "2        dbpedia-owl:Person  dbpedia-owl:TelevisionHost|dbpedia-owl:Athlete   \n",
       "3  dbpedia-owl:Organisation                        dbpedia-owl:Organisation   \n",
       "4        dbpedia-owl:Person                              dbpedia-owl:Person   \n",
       "5                       NaN                      dbpedia-owl:TelevisionShow   \n",
       "6                       NaN                                dbpedia-owl:Work   \n",
       "7                       NaN              dbpedia-owl:Sport|dbpedia-owl:Book   \n",
       "8                       NaN              dbpedia-owl:Sport|dbpedia-owl:Book   \n",
       "9        dbpedia-owl:Person          dbpedia-owl:Pope|dbpedia-owl:Religious   \n",
       "\n",
       "   ent_conf  \n",
       "0  0.696500  \n",
       "1  0.570000  \n",
       "2  0.851667  \n",
       "3  0.570000  \n",
       "4  0.867500  \n",
       "5 -0.598810  \n",
       "6 -0.585000  \n",
       "7 -0.594167  \n",
       "8 -0.594167  \n",
       "9  0.655000  "
      ]
     },
     "execution_count": 4,
     "metadata": {},
     "output_type": "execute_result"
    }
   ],
   "source": [
    "entity_df['ent_name'] = entity_df['ent_name'].apply(lambda x: remove_suffix(x))\n",
    "entity_df[:10]\n",
    "# entity_df.to_csv(output_path + '/parsed_entities.csv')"
   ]
  },
  {
   "cell_type": "markdown",
   "id": "bc1d7220-b921-4301-9b90-a88a459ee08c",
   "metadata": {},
   "source": [
    "  "
   ]
  },
  {
   "cell_type": "code",
   "execution_count": 5,
   "id": "36b4db00-0021-459a-bb6b-20f6d14d039a",
   "metadata": {
    "tags": []
   },
   "outputs": [],
   "source": [
    "import requests\n",
    "\n",
    "def search_wikidata(entity_name):\n",
    "    url = 'https://www.wikidata.org/w/api.php'\n",
    "    params = {\n",
    "        'action': 'wbsearchentities',\n",
    "        'language': 'en',\n",
    "        'format': 'json',\n",
    "        'search': entity_name\n",
    "    }\n",
    "    response = requests.get(url, params=params)\n",
    "    if response.status_code == 200:\n",
    "        results = response.json().get('search', [])\n",
    "        if results:\n",
    "            # Use the first result\n",
    "            first_result = results[0]\n",
    "            wikidata_id = first_result['id']\n",
    "            label = first_result.get('label', '')\n",
    "            wikidata_description = first_result.get('description', '')\n",
    "            wikipedia_url = first_result.get('sitelinks', {}).get('enwiki', {}).get('url', None)\n",
    "\n",
    "            return wikidata_id, label, wikidata_description, wikipedia_url\n",
    "    return None, None, None, None"
   ]
  },
  {
   "cell_type": "code",
   "execution_count": null,
   "id": "88a67f5f-070a-43a3-883d-c86e7fd288c8",
   "metadata": {
    "tags": []
   },
   "outputs": [],
   "source": [
    "def add_wikidata(row):\n",
    "    wikidata_id, label, wikidata_description, wikipedia_url = search_wikidata(row['ent_name'])\n",
    "    row['wikidata_id'] = wikidata_id\n",
    "    row['wikidata_label'] = label\n",
    "    row['wikidata_description'] = wikidata_description\n",
    "    row['wikipedia_url'] = wikipedia_url\n",
    "    return row\n",
    "\n",
    "entity_df = entity_df.apply(add_wikidata, axis=1)\n",
    "entity_df[:10]"
   ]
  },
  {
   "cell_type": "markdown",
   "id": "daaa6327-9593-4cec-aea9-8bbf42e99c37",
   "metadata": {
    "tags": []
   },
   "source": [
    "    "
   ]
  },
  {
   "cell_type": "code",
   "execution_count": null,
   "id": "81cbe3a0-0b9e-4893-bdd0-eabcc5b08e96",
   "metadata": {
    "tags": []
   },
   "outputs": [],
   "source": [
    "entities = entity_df[['ent_name', \"ent_link\", 'ent_class', \"ent_conf\"]]\n",
    "\n",
    "# drop duplicates based on entity link to DBpedia, which makes sure that there is no duplicate entity.\n",
    "entities = entities.drop_duplicates(subset = ['ent_link'], keep = 'first')\n",
    "\n",
    "entities = entities.reset_index(drop = True)\n",
    "entities[:50]\n",
    "#entities.to_csv(output_path + '/entity_list.csv')"
   ]
  }
 ],
 "metadata": {
  "kernelspec": {
   "display_name": "Python 3 (ipykernel)",
   "language": "python",
   "name": "python3"
  },
  "language_info": {
   "codemirror_mode": {
    "name": "ipython",
    "version": 3
   },
   "file_extension": ".py",
   "mimetype": "text/x-python",
   "name": "python",
   "nbconvert_exporter": "python",
   "pygments_lexer": "ipython3",
   "version": "3.10.13"
  }
 },
 "nbformat": 4,
 "nbformat_minor": 5
}
